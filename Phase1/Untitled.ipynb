{
 "cells": [
  {
   "cell_type": "code",
   "execution_count": 60,
   "id": "bdd040ad-5d5e-41e1-a9e7-6881d0c56269",
   "metadata": {},
   "outputs": [
    {
     "name": "stdout",
     "output_type": "stream",
     "text": [
      "Collecting sympy\n",
      "  Downloading sympy-1.13.1-py3-none-any.whl.metadata (12 kB)\n",
      "Collecting mpmath<1.4,>=1.1.0 (from sympy)\n",
      "  Downloading mpmath-1.3.0-py3-none-any.whl.metadata (8.6 kB)\n",
      "Downloading sympy-1.13.1-py3-none-any.whl (6.2 MB)\n",
      "\u001b[2K   \u001b[38;2;114;156;31m━━━━━━━━━━━━━━━━━━━━━━━━━━━━━━━━━━━━━━━━\u001b[0m \u001b[32m6.2/6.2 MB\u001b[0m \u001b[31m13.1 MB/s\u001b[0m eta \u001b[36m0:00:00\u001b[0mm eta \u001b[36m0:00:01\u001b[0m[36m0:00:01\u001b[0m\n",
      "\u001b[?25hDownloading mpmath-1.3.0-py3-none-any.whl (536 kB)\n",
      "\u001b[2K   \u001b[38;2;114;156;31m━━━━━━━━━━━━━━━━━━━━━━━━━━━━━━━━━━━━━━━━\u001b[0m \u001b[32m536.2/536.2 kB\u001b[0m \u001b[31m6.2 MB/s\u001b[0m eta \u001b[36m0:00:00\u001b[0mm eta \u001b[36m0:00:01\u001b[0m36m0:00:01\u001b[0m\n",
      "\u001b[?25hInstalling collected packages: mpmath, sympy\n",
      "Successfully installed mpmath-1.3.0 sympy-1.13.1\n",
      "\n",
      "\u001b[1m[\u001b[0m\u001b[34;49mnotice\u001b[0m\u001b[1;39;49m]\u001b[0m\u001b[39;49m A new release of pip is available: \u001b[0m\u001b[31;49m24.0\u001b[0m\u001b[39;49m -> \u001b[0m\u001b[32;49m24.1.2\u001b[0m\n",
      "\u001b[1m[\u001b[0m\u001b[34;49mnotice\u001b[0m\u001b[1;39;49m]\u001b[0m\u001b[39;49m To update, run: \u001b[0m\u001b[32;49mpip install --upgrade pip\u001b[0m\n"
     ]
    }
   ],
   "source": [
    "!pip install sympy"
   ]
  },
  {
   "cell_type": "code",
   "execution_count": 61,
   "id": "4f68c1d7-a0e3-4819-ab7e-a4a308245f07",
   "metadata": {},
   "outputs": [],
   "source": [
    "import sympy as sym\n",
    "import random"
   ]
  },
  {
   "cell_type": "markdown",
   "id": "4efdc7e2-ba3b-4a43-bfb2-cfef94f1b5ef",
   "metadata": {},
   "source": [
    "1. For each of the following, write a function, and repeatedly use it to simulate\n",
    "   the probability of an event occurring with the following chances:\n",
    "   1. $\\frac{2}{7}$\n",
    "   2. $\\frac{1}{10}$\n",
    "   3. $\\frac{1}{100}$\n",
    "   4. 1"
   ]
  },
  {
   "cell_type": "code",
   "execution_count": 15,
   "id": "5488eea3-b812-4041-81fa-5567d852470f",
   "metadata": {},
   "outputs": [
    {
     "name": "stdout",
     "output_type": "stream",
     "text": [
      "weekday\n"
     ]
    }
   ],
   "source": [
    "def twoOfseven():\n",
    "    week=[\"weekday\"]*5+[\"weekend\"]*2\n",
    "    tweek=tuple(week)\n",
    "    return random.choice(tweek)\n",
    "print(twoOfseven())"
   ]
  },
  {
   "cell_type": "code",
   "execution_count": 21,
   "id": "e85ad3a1-6662-498e-8fdd-5c7eaf55e64e",
   "metadata": {},
   "outputs": [
    {
     "name": "stdout",
     "output_type": "stream",
     "text": [
      "10\n",
      "orange\n"
     ]
    }
   ],
   "source": [
    "def oneOften():\n",
    "    dinner=(\"banana\",\"apple\",\"orange\",\"salad\",\"friedrice\",\"friedchicken\",\"cake\",\"sushi\",\"stake\",\"nothing\")\n",
    "    print(len(dinner))\n",
    "    return random.choice(dinner)\n",
    "print(oneOften())\n"
   ]
  },
  {
   "cell_type": "code",
   "execution_count": 25,
   "id": "2573fc6f-0793-4e0a-a61a-8386bf7452eb",
   "metadata": {},
   "outputs": [
    {
     "name": "stdout",
     "output_type": "stream",
     "text": [
      "100\n",
      "88\n"
     ]
    }
   ],
   "source": [
    "def oneOf100():\n",
    "    list1=[]\n",
    "    for i in range(1,101):\n",
    "        list1.append(i)\n",
    "    print(len(list1))\n",
    "    return random.choice(list1)\n",
    "print(oneOf100())"
   ]
  },
  {
   "cell_type": "markdown",
   "id": "4d2ee693-3e34-4407-a169-1e4d1ba04f1e",
   "metadata": {},
   "source": [
    "2. Write a function, and repeatedly use it to simulate the probability of\n",
    "   selecting a red token from each of the following configurations:\n",
    "   1. A bag with 4 red tokens and 4 green tokens.\n",
    "   2. A bag with 4 red tokens, 4 green tokens and 10 yellow tokens.\n",
    "   3. A bag with 0 red tokens, 4 green tokens and 10 yellow tokens."
   ]
  },
  {
   "cell_type": "code",
   "execution_count": 33,
   "id": "57dee47b-0983-430b-901f-069c86996716",
   "metadata": {},
   "outputs": [],
   "source": [
    "baga=[\"red\"]*4+[\"green\"]*4\n",
    "bagb=[\"red\"]*4+[\"green\"]*4+[\"yellow\"]*10\n",
    "bagc=[\"green\"]*4+[\"yellow\"]*10\n",
    "bagA=tuple(baga)\n",
    "bagB=tuple(bagb)\n",
    "bagC=tuple(bagc)"
   ]
  },
  {
   "cell_type": "code",
   "execution_count": 80,
   "id": "c346d533-a5d7-4118-ab5f-516967b3b08d",
   "metadata": {},
   "outputs": [],
   "source": [
    "def pick_a_token(container):\n",
    "    return random.choice(container)\n",
    "\n",
    "num_of_repeat=1000\n",
    "sampleA=[pick_a_token(bagA) for num_of_repeat in range(num_of_repeat)]\n",
    "sampleB=[pick_a_token(bagB) for num_of_repeat in range(num_of_repeat)]\n",
    "sampleC=[pick_a_token(bagC) for num_of_repeat in range(num_of_repeat)]"
   ]
  },
  {
   "cell_type": "code",
   "execution_count": 81,
   "id": "ac369b34-8f7e-4a34-b444-d2d56a2db7c6",
   "metadata": {},
   "outputs": [
    {
     "name": "stdout",
     "output_type": "stream",
     "text": [
      "253/500\n",
      "9/40\n",
      "0\n"
     ]
    }
   ],
   "source": [
    "resultA=sym.S(sum(token=='red' for token in sampleA))/sym.S(num_of_repeat)\n",
    "resultB=sym.S(sum(token=='red' for token in sampleB))/sym.S(num_of_repeat)\n",
    "resultC=sym.S(sum(token=='red' for token in sampleC))/sym.S(num_of_repeat)\n",
    "print(resultA)\n",
    "print(resultB)\n",
    "print(resultC)"
   ]
  },
  {
   "cell_type": "markdown",
   "id": "06b231dc-546d-48cf-bc23-6a1c2f020948",
   "metadata": {},
   "source": [
    "3. An experiment consists of selecting a token from a bag and spinning a coin. The bag contains 3 red tokens and 4 blue tokens. A token is selected at random from the bag, its colour is noted and then the token is returned to the bag.\n",
    "\n",
    "   When a red token is selected, a biased coin with probability $\\frac{4}{5}$ of landing heads is spun.\n",
    "\n",
    "   When a blue token is selected, a biased coin with probability $\\frac{2}{5}$ of landing heads is spun.\n",
    "\n",
    "   1. Approximate the probability of picking a red token?\n",
    "   2. Approximate the probability of obtaining Heads?\n",
    "   3. If a heads is obtained, approximate the probability of having selected a red token."
   ]
  },
  {
   "cell_type": "code",
   "execution_count": 93,
   "id": "fab47b40-cd91-4a41-b441-f50c48eca5e3",
   "metadata": {},
   "outputs": [],
   "source": [
    "bag33=['red']*3+['blue']*4\n",
    "bag3=tuple(bag33)"
   ]
  },
  {
   "cell_type": "code",
   "execution_count": 94,
   "id": "0559154c-6634-4c01-a2ed-e9201f833675",
   "metadata": {},
   "outputs": [],
   "source": [
    "def sample_experiment(bag):\n",
    "    selected_token= pick_a_token(bag3)\n",
    "\n",
    "    if selected_token == 'red':\n",
    "        probability_head=4/5\n",
    "    else:\n",
    "        probability_head=2/5\n",
    "\n",
    "    if random.random()<probability_head:\n",
    "        coin='Heads'\n",
    "    else:\n",
    "        coin = 'Tails'\n",
    "    return selected_token,coin"
   ]
  },
  {
   "cell_type": "code",
   "execution_count": 95,
   "id": "33f8bdfc-ebb7-4a2b-b0f5-986349ba62c4",
   "metadata": {},
   "outputs": [
    {
     "data": {
      "text/plain": [
       "('blue', 'Tails')"
      ]
     },
     "execution_count": 95,
     "metadata": {},
     "output_type": "execute_result"
    }
   ],
   "source": [
    "sample_experiment(bag3)"
   ]
  },
  {
   "cell_type": "code",
   "execution_count": 102,
   "id": "f02f9a4e-6d7f-4a71-9d95-8dff3a8769af",
   "metadata": {},
   "outputs": [
    {
     "name": "stdout",
     "output_type": "stream",
     "text": [
      "chance for get head 569/1000\n"
     ]
    }
   ],
   "source": [
    "#3.2\n",
    "sample3 = [sample_experiment(bag3) for repeat in range(num_of_repeat)]\n",
    "result3=sym.S(sum(coin=='Heads' for token,coin in sample3))/sym.S(num_of_repeat)\n",
    "print(f\"chance for get head {result3}\")"
   ]
  },
  {
   "cell_type": "code",
   "execution_count": 103,
   "id": "9d7fedca-9b31-45a5-9157-19447c405504",
   "metadata": {},
   "outputs": [
    {
     "name": "stdout",
     "output_type": "stream",
     "text": [
      "340/569\n"
     ]
    }
   ],
   "source": [
    "sample3_3=[(token,coin) for token,coin in sample3 if coin =='Heads']\n",
    "result3_3=sym.S(sum(token=='red' for token, coin in sample3_3))/sym.S(len(sample3_3))\n",
    "print(result3_3)"
   ]
  },
  {
   "cell_type": "markdown",
   "id": "141774fb-1a78-4e33-a81a-df8134a2b432",
   "metadata": {},
   "source": [
    "4. On a randomly chose day, the probability of an individual travelling to school by car, bicycle or on foot is $1/2$, $1/6$ and $1/3$ respectively. The probability of being late when using these methods of travel is $1/5$, $2/5$ and $1/10$ respectively.\n",
    "\n",
    "   1. Approximate the probability that an individual travels by foot and is late.\n",
    "   2. Approximate the probability that an individual is not late.\n",
    "   3. Given that an individual is late, approximate the probability that they did not travel on foot.\n"
   ]
  },
  {
   "cell_type": "code",
   "execution_count": 217,
   "id": "90076dc0-46e8-49f8-88ab-76effd6c319e",
   "metadata": {},
   "outputs": [
    {
     "name": "stdout",
     "output_type": "stream",
     "text": [
      "foot\n"
     ]
    }
   ],
   "source": [
    "tools=(\"car\",'bicycle','foot')\n",
    "def tool_choice():\n",
    "    choice=random.random()\n",
    "    #print(choice)\n",
    "    if choice < (1/2):\n",
    "        return 'car'\n",
    "    elif choice >(1/2) and choice < (1-1/3):\n",
    "        return 'bicycle'\n",
    "    elif choice > (1-1/3):\n",
    "        return 'foot'\n",
    "print(tool_choice())\n",
    "tool=tool_choice()"
   ]
  },
  {
   "cell_type": "code",
   "execution_count": 226,
   "id": "8f1f74cf-901c-46ac-95c8-5b6bf600d87f",
   "metadata": {},
   "outputs": [],
   "source": [
    "def late_chance(tool):\n",
    "    if tool == 'car':\n",
    "        late_chance = 1/5\n",
    "    elif tool =='bicycle':\n",
    "        late_chance = 2/5\n",
    "    else:\n",
    "        late_chance = 1/10\n",
    "\n",
    "    if random.random() <late_chance:\n",
    "        result = 'Late'\n",
    "    else:\n",
    "        result = 'OnTime'\n",
    "    return tool,result"
   ]
  },
  {
   "cell_type": "code",
   "execution_count": 253,
   "id": "2f7e407e-cc5a-41eb-801b-36eff95afd87",
   "metadata": {},
   "outputs": [
    {
     "name": "stdout",
     "output_type": "stream",
     "text": [
      "0.028\n"
     ]
    }
   ],
   "source": [
    "\n",
    "Late_Sample = [late_chance(tool_choice()) for repete in range(num_of_repeat)]\n",
    "result4_1 = sum(result == 'Late' and tool =='foot' for tool,result in Late_Sample)/num_of_repeat\n",
    "print(result4_1)"
   ]
  },
  {
   "cell_type": "code",
   "execution_count": 254,
   "id": "6f379c80-ae98-4cf7-9907-c1b534179253",
   "metadata": {},
   "outputs": [
    {
     "name": "stdout",
     "output_type": "stream",
     "text": [
      "0.801\n"
     ]
    }
   ],
   "source": [
    "#4_2\n",
    "result4_2 = sum(result =='OnTime' for tool,result in Late_Sample)/num_of_repeat\n",
    "print(result4_2)"
   ]
  },
  {
   "cell_type": "code",
   "execution_count": 255,
   "id": "1013a6fd-1904-40b0-83e1-9b7135633a87",
   "metadata": {},
   "outputs": [
    {
     "name": "stdout",
     "output_type": "stream",
     "text": [
      "0.8592964824120602\n"
     ]
    }
   ],
   "source": [
    "#4_3\n",
    "#result4_3=sum(result == 'Late' and tool !='foot' for tool,result in Late_Sample)/num_of_repeat\n",
    "result4_3=sum(result == 'Late' and tool !='foot' for tool,result in Late_Sample)/sum(result =='Late' for tool,result in Late_Sample)\n",
    "print(result4_3)"
   ]
  },
  {
   "cell_type": "code",
   "execution_count": null,
   "id": "6a268131-0d40-457f-bf69-ade0ba32edeb",
   "metadata": {},
   "outputs": [],
   "source": []
  }
 ],
 "metadata": {
  "kernelspec": {
   "display_name": "Python 3 (ipykernel)",
   "language": "python",
   "name": "python3"
  },
  "language_info": {
   "codemirror_mode": {
    "name": "ipython",
    "version": 3
   },
   "file_extension": ".py",
   "mimetype": "text/x-python",
   "name": "python",
   "nbconvert_exporter": "python",
   "pygments_lexer": "ipython3",
   "version": "3.12.4"
  }
 },
 "nbformat": 4,
 "nbformat_minor": 5
}
